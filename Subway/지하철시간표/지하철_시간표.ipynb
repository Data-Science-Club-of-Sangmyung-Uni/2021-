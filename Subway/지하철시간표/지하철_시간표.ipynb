{
  "nbformat": 4,
  "nbformat_minor": 0,
  "metadata": {
    "colab": {
      "name": "지하철_시간표.ipynb",
      "provenance": [],
      "collapsed_sections": []
    },
    "kernelspec": {
      "name": "python3",
      "display_name": "Python 3"
    },
    "language_info": {
      "name": "python"
    }
  },
  "cells": [
    {
      "cell_type": "markdown",
      "metadata": {
        "id": "zKJkr7RVtgg-"
      },
      "source": [
        "## 1호선"
      ]
    },
    {
      "cell_type": "code",
      "metadata": {
        "id": "IpjyecEeAemt"
      },
      "source": [
        "from openpyxl import load_workbook\n",
        "import pandas as pd\n",
        "\n",
        "# data_only=True로 해줘야 수식이 아닌 값으로 받아온다. \n",
        "load_wb = load_workbook(\"/content/열차시각표(4단계 격상 시간표) 감축 시간표.xlsx\", data_only=True)\n",
        "# 시트 이름으로 불러오기 \n",
        "Route = [\"경부2선(상)\", \"경부2선(하)\", \"경인경원(상)\", \"경인경원(하)\"]\n",
        "p = [[116, 'CK']] * 2 + [[128, 'ES']] * 2\n",
        "\n",
        "for idx, route in enumerate(Route):\n",
        "    load_ws = load_wb[route]\n",
        "    df = pd.DataFrame(columns=[\"Station_Name\", \" Station_Timeline\"])\n",
        "    sn_i, st_i = [], []\n",
        "    for i in range(4, p[idx][0] + 1, 2):\n",
        "        sn_i.append(i)\n",
        "    for i in range(5, p[idx][0], 2):\n",
        "        st_i.append(i)\n",
        "    st_i.append(p[idx][0])\n",
        "\n",
        "    # 역 이름 리스트\n",
        "    Station_Name = []\n",
        "    for sn in sn_i:\n",
        "        temp = load_ws['B'+ str(sn)].value\n",
        "        if temp == None:\n",
        "            pass\n",
        "        else: Station_Name.append(temp)\n",
        "\n",
        "    # s역별 도착시간 저장\n",
        "    # D~ CH, 5, 7, 9, 11, 13, 15, 17, 19, 21, 23, 25, 27, \n",
        "    Station_Timeline = []\n",
        "    for st in st_i:\n",
        "        get_cells = load_ws['C' + str(st) : p[idx][1] + str(st)]\n",
        "        for row in get_cells:\n",
        "            temp = []\n",
        "            for cell in row:\n",
        "                t = str(cell.value).strip()\n",
        "                if t != \"None\" and t != \"\"and t != \"운휴\":\n",
        "                    temp.append(t)\n",
        "        temp = sorted(temp)\n",
        "        Station_Timeline.append(temp)\n",
        "    \n",
        "\n",
        "    for i in range(len(Station_Name)):\n",
        "        df.loc[i] = [Station_Name[i], Station_Timeline[i][:]]\n",
        "    \n",
        "    df.to_csv(\"/content/\"+ route +\".csv\", encoding='utf-8-sig')\n",
        "    "
      ],
      "execution_count": null,
      "outputs": []
    },
    {
      "cell_type": "markdown",
      "metadata": {
        "id": "PbE9g4vHtkRZ"
      },
      "source": [
        "## 2호선"
      ]
    },
    {
      "cell_type": "code",
      "metadata": {
        "id": "lfio-5A7rE4w"
      },
      "source": [
        "from openpyxl import load_workbook\n",
        "import pandas as pd\n",
        "\n",
        "\n",
        "# data_only=True로 해줘야 수식이 아닌 값으로 받아온다. \n",
        "load_wb = load_workbook(\"/content/2호선 본선 평일 시각표(2021.08.02).xlsx\", data_only=True)\n",
        "# 시트 이름으로 불러오기 \n",
        "Route = [\"평일 내선\", \"평일 외선\"]\n",
        "p = [91, 'IW']\n",
        "\n",
        "for route in Route:\n",
        "    load_ws = load_wb[route]\n",
        "    df = pd.DataFrame(columns=[\"Station_Name\", \" Station_Timeline\"])\n",
        "    sn_i, st_i = [], []\n",
        "    for i in range(5, p[0] + 1, 2):\n",
        "        sn_i.append(i)\n",
        "    for i in range(6, p[0], 2):\n",
        "        st_i.append(i)\n",
        "    st_i.append(p[0])\n",
        "\n",
        "    # 역 이름 리스트\n",
        "    Station_Name = []\n",
        "    for sn in sn_i:\n",
        "        temp = load_ws['A'+ str(sn)].value\n",
        "        if temp == None:\n",
        "            pass\n",
        "        else: Station_Name.append(temp)\n",
        " \n",
        "    Station_Timeline = []\n",
        "    for st in st_i:\n",
        "        get_cells = load_ws['B' + str(st) : p[1] + str(st)]\n",
        "        for row in get_cells:\n",
        "            temp = []\n",
        "            for cell in row:\n",
        "                t = str(cell.value).strip()\n",
        "                if t != \"None\" and t != \"\"and t != \"운휴\":\n",
        "                    temp.append(t)\n",
        "        temp = sorted(temp)\n",
        "        Station_Timeline.append(temp)\n",
        "    \n",
        "\n",
        "    for i in range(len(Station_Name)):\n",
        "        df.loc[i] = [Station_Name[i], Station_Timeline[i][:]]\n",
        "    \n",
        "    df.to_csv(\"/content/\"+ route +\".csv\", encoding='utf-8-sig')\n",
        "    "
      ],
      "execution_count": null,
      "outputs": []
    }
  ]
}