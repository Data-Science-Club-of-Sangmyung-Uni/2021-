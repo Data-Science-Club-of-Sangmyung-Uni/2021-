{
  "nbformat": 4,
  "nbformat_minor": 0,
  "metadata": {
    "colab": {
      "name": "지하철 최종 원큐 코드.ipynb",
      "provenance": [],
      "collapsed_sections": []
    },
    "kernelspec": {
      "name": "python3",
      "display_name": "Python 3"
    },
    "language_info": {
      "name": "python"
    }
  },
  "cells": [
    {
      "cell_type": "code",
      "metadata": {
        "id": "c7tE7FjMU6iR"
      },
      "source": [
        "import requests\n",
        "import json\n",
        "import pandas as pd\n",
        "import datetime\n",
        "from dateutil.tz import gettz"
      ],
      "execution_count": 1,
      "outputs": []
    },
    {
      "cell_type": "code",
      "metadata": {
        "colab": {
          "base_uri": "https://localhost:8080/",
          "height": 422
        },
        "id": "x-ia6REKYzyp",
        "outputId": "9de11a10-ca29-4536-9bcc-bdd247d2abe1"
      },
      "source": [
        "#request할 역의 list를 담은 file load\n",
        "stationInfo = pd.read_csv(\"/content/2019_line1_.csv\") #You should check your file path\n",
        "stationInfo #checking "
      ],
      "execution_count": 2,
      "outputs": [
        {
          "output_type": "execute_result",
          "data": {
            "text/html": [
              "<div>\n",
              "<style scoped>\n",
              "    .dataframe tbody tr th:only-of-type {\n",
              "        vertical-align: middle;\n",
              "    }\n",
              "\n",
              "    .dataframe tbody tr th {\n",
              "        vertical-align: top;\n",
              "    }\n",
              "\n",
              "    .dataframe thead th {\n",
              "        text-align: right;\n",
              "    }\n",
              "</style>\n",
              "<table border=\"1\" class=\"dataframe\">\n",
              "  <thead>\n",
              "    <tr style=\"text-align: right;\">\n",
              "      <th></th>\n",
              "      <th>역명</th>\n",
              "      <th>승하차총승객수</th>\n",
              "    </tr>\n",
              "  </thead>\n",
              "  <tbody>\n",
              "    <tr>\n",
              "      <th>0</th>\n",
              "      <td>서울</td>\n",
              "      <td>43842488</td>\n",
              "    </tr>\n",
              "    <tr>\n",
              "      <th>1</th>\n",
              "      <td>영등포</td>\n",
              "      <td>37413027</td>\n",
              "    </tr>\n",
              "    <tr>\n",
              "      <th>2</th>\n",
              "      <td>수원</td>\n",
              "      <td>35250100</td>\n",
              "    </tr>\n",
              "    <tr>\n",
              "      <th>3</th>\n",
              "      <td>청량리(서울시립대입구)</td>\n",
              "      <td>32077489</td>\n",
              "    </tr>\n",
              "    <tr>\n",
              "      <th>4</th>\n",
              "      <td>용산</td>\n",
              "      <td>31533761</td>\n",
              "    </tr>\n",
              "    <tr>\n",
              "      <th>...</th>\n",
              "      <td>...</td>\n",
              "      <td>...</td>\n",
              "    </tr>\n",
              "    <tr>\n",
              "      <th>98</th>\n",
              "      <td>봉명</td>\n",
              "      <td>967138</td>\n",
              "    </tr>\n",
              "    <tr>\n",
              "      <th>99</th>\n",
              "      <td>배방</td>\n",
              "      <td>791794</td>\n",
              "    </tr>\n",
              "    <tr>\n",
              "      <th>100</th>\n",
              "      <td>직산</td>\n",
              "      <td>698085</td>\n",
              "    </tr>\n",
              "    <tr>\n",
              "      <th>101</th>\n",
              "      <td>옥수</td>\n",
              "      <td>32440</td>\n",
              "    </tr>\n",
              "    <tr>\n",
              "      <th>102</th>\n",
              "      <td>창동</td>\n",
              "      <td>192</td>\n",
              "    </tr>\n",
              "  </tbody>\n",
              "</table>\n",
              "<p>103 rows × 2 columns</p>\n",
              "</div>"
            ],
            "text/plain": [
              "               역명   승하차총승객수\n",
              "0              서울  43842488\n",
              "1             영등포  37413027\n",
              "2              수원  35250100\n",
              "3    청량리(서울시립대입구)  32077489\n",
              "4              용산  31533761\n",
              "..            ...       ...\n",
              "98             봉명    967138\n",
              "99             배방    791794\n",
              "100            직산    698085\n",
              "101            옥수     32440\n",
              "102            창동       192\n",
              "\n",
              "[103 rows x 2 columns]"
            ]
          },
          "metadata": {},
          "execution_count": 2
        }
      ]
    },
    {
      "cell_type": "code",
      "metadata": {
        "colab": {
          "base_uri": "https://localhost:8080/"
        },
        "id": "-2RbHKcgZZgy",
        "outputId": "55a01e5b-e2ff-4768-af54-d4893e5fcec4"
      },
      "source": [
        "temp = stationInfo['역명']\n",
        "print(temp[:30])"
      ],
      "execution_count": 3,
      "outputs": [
        {
          "output_type": "stream",
          "text": [
            "0               서울\n",
            "1              영등포\n",
            "2               수원\n",
            "3     청량리(서울시립대입구)\n",
            "4               용산\n",
            "5               종각\n",
            "6               부천\n",
            "7               부평\n",
            "8             종로3가\n",
            "9               송내\n",
            "10              역곡\n",
            "11              안양\n",
            "12              금정\n",
            "13            종로5가\n",
            "14              시청\n",
            "15              개봉\n",
            "16              주안\n",
            "17             의정부\n",
            "18              구로\n",
            "19             제기동\n",
            "20              동암\n",
            "21       왕십리(성동구청)\n",
            "22         가산디지털단지\n",
            "23             동인천\n",
            "24              병점\n",
            "25              독산\n",
            "26            성균관대\n",
            "27             신설동\n",
            "28             동대문\n",
            "29              대방\n",
            "Name: 역명, dtype: object\n"
          ],
          "name": "stdout"
        }
      ]
    },
    {
      "cell_type": "code",
      "metadata": {
        "colab": {
          "base_uri": "https://localhost:8080/"
        },
        "id": "4mWfa1uMZIjr",
        "outputId": "bf5777cf-92ec-4cfd-ecff-8f963d9f29bf"
      },
      "source": [
        "ServiceKeyList = [\"524e6361756a75613739536b6a7a54\"] #서비스 키 list\n",
        "KEY = '/' + ServiceKeyList[0] \n",
        "TYPE = '/' + \"json\"\n",
        "SERVICE = '/' + \"realtimeStationArrival\"\n",
        "START_INDEX = '/' + '0'\n",
        "END_INDEX = '/' + '10'\n",
        "\n",
        "for idx in range(30):\n",
        "  #search할 target station을 list로 만들어서 크롤링 할 것\n",
        "  #if list가 큰 경우 file로 만들어서 load/save 할 것 \n",
        "  statnNm = '/' + temp[idx] \n",
        "\n",
        "  url = \"http://swopenAPI.seoul.go.kr/api/subway\" + KEY + TYPE + SERVICE + START_INDEX + END_INDEX + statnNm\n",
        "  \n",
        "  response = requests.get(url)\n",
        "  #response가 제대로 왔는지 checking\n",
        "  if response.status_code is not 200:\n",
        "    print(\"response Error\")\n",
        "    exit()\n",
        "  \n",
        "  jsonData = response.json()\n",
        "\n",
        "  try: #request에 성공한 station만을 추출하여 json 불러옴\n",
        "    df = pd.json_normalize(jsonData['realtimeArrivalList'])\n",
        "    print(statnNm)\n",
        "  except:\n",
        "    continue\n",
        "\n",
        "  currTime = datetime.datetime.now(gettz(\"Asia/Seoul\"))  #한국 시간대 사용\n",
        "  df = pd.DataFrame(df)\n",
        "\n",
        "  fileName = (str(currTime.year) + '-' + str(currTime.month) + '-' +\n",
        "  str(currTime.day) + \" \" + str(currTime.hour) + ':' + \n",
        "  str(currTime.minute) + ':' + str(currTime.second) + \" \" + \n",
        "  statnNm.replace('/', '') + \".csv\")\n",
        "\n",
        "  df.to_csv(fileName, mode='w')"
      ],
      "execution_count": 4,
      "outputs": [
        {
          "output_type": "stream",
          "text": [
            "/서울\n",
            "/영등포\n",
            "/수원\n",
            "/용산\n",
            "/종각\n",
            "/부천\n",
            "/부평\n",
            "/종로3가\n",
            "/송내\n",
            "/역곡\n",
            "/안양\n",
            "/금정\n",
            "/종로5가\n",
            "/시청\n",
            "/개봉\n",
            "/주안\n",
            "/의정부\n",
            "/구로\n",
            "/제기동\n",
            "/동암\n",
            "/가산디지털단지\n",
            "/동인천\n",
            "/병점\n",
            "/독산\n",
            "/성균관대\n",
            "/신설동\n",
            "/동대문\n",
            "/대방\n"
          ],
          "name": "stdout"
        }
      ]
    }
  ]
}