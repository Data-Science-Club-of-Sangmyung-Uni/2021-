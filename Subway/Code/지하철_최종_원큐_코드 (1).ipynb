{
  "nbformat": 4,
  "nbformat_minor": 0,
  "metadata": {
    "colab": {
      "name": "지하철 최종 원큐 코드.ipynb",
      "provenance": [],
      "collapsed_sections": []
    },
    "kernelspec": {
      "display_name": "Python 3",
      "name": "python3"
    },
    "language_info": {
      "name": "python"
    }
  },
  "cells": [
    {
      "cell_type": "code",
      "metadata": {
        "id": "c7tE7FjMU6iR"
      },
      "source": [
        "import requests\n",
        "import json\n",
        "import pandas as pd\n",
        "import datetime\n",
        "#from dateutil.tz import gettz\n",
        "import os"
      ],
      "execution_count": 1,
      "outputs": []
    },
    {
      "cell_type": "code",
      "metadata": {
        "colab": {
          "base_uri": "https://localhost:8080/",
          "height": 419
        },
        "id": "x-ia6REKYzyp",
        "outputId": "70607916-4d52-47d8-a841-2bc9b65a4208"
      },
      "source": [
        "#request할 역의 list를 담은 file load\n",
        "stationInfo = pd.read_csv(\"/content/drive/MyDrive/statnNm/total_subway_line.csv\") #You should check your file path\n",
        "stationInfo #checking "
      ],
      "execution_count": 2,
      "outputs": [
        {
          "output_type": "execute_result",
          "data": {
            "text/html": [
              "<div>\n",
              "<style scoped>\n",
              "    .dataframe tbody tr th:only-of-type {\n",
              "        vertical-align: middle;\n",
              "    }\n",
              "\n",
              "    .dataframe tbody tr th {\n",
              "        vertical-align: top;\n",
              "    }\n",
              "\n",
              "    .dataframe thead th {\n",
              "        text-align: right;\n",
              "    }\n",
              "</style>\n",
              "<table border=\"1\" class=\"dataframe\">\n",
              "  <thead>\n",
              "    <tr style=\"text-align: right;\">\n",
              "      <th></th>\n",
              "      <th>역명</th>\n",
              "    </tr>\n",
              "  </thead>\n",
              "  <tbody>\n",
              "    <tr>\n",
              "      <th>0</th>\n",
              "      <td>서울</td>\n",
              "    </tr>\n",
              "    <tr>\n",
              "      <th>1</th>\n",
              "      <td>영등포</td>\n",
              "    </tr>\n",
              "    <tr>\n",
              "      <th>2</th>\n",
              "      <td>수원</td>\n",
              "    </tr>\n",
              "    <tr>\n",
              "      <th>3</th>\n",
              "      <td>청량리</td>\n",
              "    </tr>\n",
              "    <tr>\n",
              "      <th>4</th>\n",
              "      <td>용산</td>\n",
              "    </tr>\n",
              "    <tr>\n",
              "      <th>...</th>\n",
              "      <td>...</td>\n",
              "    </tr>\n",
              "    <tr>\n",
              "      <th>145</th>\n",
              "      <td>신설동</td>\n",
              "    </tr>\n",
              "    <tr>\n",
              "      <th>146</th>\n",
              "      <td>용답</td>\n",
              "    </tr>\n",
              "    <tr>\n",
              "      <th>147</th>\n",
              "      <td>용두</td>\n",
              "    </tr>\n",
              "    <tr>\n",
              "      <th>148</th>\n",
              "      <td>신답</td>\n",
              "    </tr>\n",
              "    <tr>\n",
              "      <th>149</th>\n",
              "      <td>도림천</td>\n",
              "    </tr>\n",
              "  </tbody>\n",
              "</table>\n",
              "<p>150 rows × 1 columns</p>\n",
              "</div>"
            ],
            "text/plain": [
              "      역명\n",
              "0     서울\n",
              "1    영등포\n",
              "2     수원\n",
              "3    청량리\n",
              "4     용산\n",
              "..   ...\n",
              "145  신설동\n",
              "146   용답\n",
              "147   용두\n",
              "148   신답\n",
              "149  도림천\n",
              "\n",
              "[150 rows x 1 columns]"
            ]
          },
          "metadata": {},
          "execution_count": 2
        }
      ]
    },
    {
      "cell_type": "code",
      "metadata": {
        "id": "-2RbHKcgZZgy"
      },
      "source": [
        "temp = stationInfo['역명']"
      ],
      "execution_count": 3,
      "outputs": []
    },
    {
      "cell_type": "code",
      "metadata": {
        "id": "0-d6itwYfQEP"
      },
      "source": [
        "def getJson(url): #request function\n",
        "  response = requests.get(url)\n",
        "  #response가 제대로 왔는지 checking\n",
        "  if response.status_code is not 200:\n",
        "    print(\"response Error\")\n",
        "    exit()\n",
        "  \n",
        "  return response.json()\n"
      ],
      "execution_count": 4,
      "outputs": []
    },
    {
      "cell_type": "code",
      "metadata": {
        "id": "SONdExUmhQmh"
      },
      "source": [
        "def saveData(df, statnNm): #save function\n",
        "  fileName = \"/content/drive/MyDrive/real-time-data/\" + statnNm.replace('/', '') + \".csv\"\n",
        "  if not os.path.exists(fileName):\n",
        "    df.to_csv(fileName, mode='w', index=False, encoding='utf-8-sig')\n",
        "  else:\n",
        "    df.to_csv(fileName, mode='a', index=False, encoding='utf-8-sig', header=False)"
      ],
      "execution_count": 5,
      "outputs": []
    },
    {
      "cell_type": "code",
      "metadata": {
        "id": "4mWfa1uMZIjr"
      },
      "source": [
        "def main():\n",
        "  ServiceKeyList = [\"524e6361756a75613739536b6a7a54\"] #서비스 키 list\n",
        "  KEY = '/' + ServiceKeyList[0] \n",
        "  TYPE = '/' + \"json\"\n",
        "  SERVICE = '/' + \"realtimeStationArrival\"\n",
        "  START_INDEX = '/' + '0'\n",
        "  END_INDEX = '/' + '10'\n",
        "\n",
        "  for idx in range(len(temp)):\n",
        "    #search할 target station을 list로 만들어서 크롤링 할 것\n",
        "    #if list가 큰 경우 file로 만들어서 load/save 할 것 \n",
        "    statnNm = '/' + temp[idx] \n",
        "\n",
        "    url = \"http://swopenAPI.seoul.go.kr/api/subway\" + KEY + TYPE + SERVICE + START_INDEX + END_INDEX + statnNm\n",
        "    \n",
        "    jsonData = getJson(url)\n",
        "\n",
        "    try: #request에 성공한 station만을 추출하여 json 불러옴\n",
        "      df = pd.json_normalize(jsonData['realtimeArrivalList'])\n",
        "      df = df[(df['arvlCd'] == '1') & ((df['subwayId'] == '1001') | (df['subwayId'] == '1002'))] \n",
        "      #print(statnNm)\n",
        "    except:\n",
        "      print(\"Excepted: \", statnNm)\n",
        "      continue\n",
        "\n",
        "    #currTime = datetime.datetime.now(gettz(\"Asia/Seoul\"))  #한국 시간대 사용\n",
        "    df = pd.DataFrame(df)\n",
        "\n",
        "    saveData(df, statnNm) #The data is saved\n",
        "  "
      ],
      "execution_count": 6,
      "outputs": []
    },
    {
      "cell_type": "code",
      "metadata": {
        "colab": {
          "background_save": true
        },
        "id": "MRKYBs5Bta62"
      },
      "source": [
        "while True:\n",
        "  main()"
      ],
      "execution_count": null,
      "outputs": []
    }
  ]
}