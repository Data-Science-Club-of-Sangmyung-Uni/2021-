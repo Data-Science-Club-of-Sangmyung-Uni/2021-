{
  "nbformat": 4,
  "nbformat_minor": 0,
  "metadata": {
    "colab": {
      "name": "US_COVID19.ipynb",
      "provenance": [],
      "collapsed_sections": []
    },
    "kernelspec": {
      "name": "python3",
      "display_name": "Python 3"
    },
    "language_info": {
      "name": "python"
    }
  },
  "cells": [
    {
      "cell_type": "markdown",
      "metadata": {
        "id": "0Ydb7OGG_ahu"
      },
      "source": [
        "# import"
      ]
    },
    {
      "cell_type": "code",
      "metadata": {
        "id": "BTKOSlOmLd48"
      },
      "source": [
        "import pandas as pd\n",
        "import numpy as np\n",
        "import matplotlib as mpl   \n",
        "import matplotlib.pyplot as plt"
      ],
      "execution_count": 1,
      "outputs": []
    },
    {
      "cell_type": "code",
      "metadata": {
        "id": "9fncWvd4hfrk"
      },
      "source": [
        "# e + 00 없애기\n",
        "pd.options.display.float_format = '{:.1f}'.format\n",
        "# 모든 행 출력\n",
        "pd.set_option('display.max_rows', None)"
      ],
      "execution_count": 2,
      "outputs": []
    },
    {
      "cell_type": "markdown",
      "metadata": {
        "id": "24_AlV95_oKt"
      },
      "source": [
        "# 미국 코로나 확진자 수 데이터\n",
        "# 출처: https://data.cdc.gov/Case-Surveillance/United-States-COVID-19-Cases-and-Deaths-by-State-o/9mfq-cb36"
      ]
    },
    {
      "cell_type": "code",
      "metadata": {
        "id": "6WXAVfUI-NtI",
        "colab": {
          "base_uri": "https://localhost:8080/",
          "height": 529
        },
        "outputId": "ab25eee4-fae0-4a42-eb5f-98c8b392f63d"
      },
      "source": [
        "US_COVID19_Cases = pd.read_csv(\"/content/drive/MyDrive/DACON/US_COVID-19_Cases_and_Deaths_by_State_over_Time.csv\")\n",
        "US_COVID19_Cases = US_COVID19_Cases.sort_values(by=[\"submission_date\"], axis=0)\n",
        "US_COVID19_Cases = US_COVID19_Cases.dropna(how=\"any\")\n",
        "US_COVID19_Cases.head(10)"
      ],
      "execution_count": 3,
      "outputs": [
        {
          "output_type": "execute_result",
          "data": {
            "text/html": [
              "<div>\n",
              "<style scoped>\n",
              "    .dataframe tbody tr th:only-of-type {\n",
              "        vertical-align: middle;\n",
              "    }\n",
              "\n",
              "    .dataframe tbody tr th {\n",
              "        vertical-align: top;\n",
              "    }\n",
              "\n",
              "    .dataframe thead th {\n",
              "        text-align: right;\n",
              "    }\n",
              "</style>\n",
              "<table border=\"1\" class=\"dataframe\">\n",
              "  <thead>\n",
              "    <tr style=\"text-align: right;\">\n",
              "      <th></th>\n",
              "      <th>submission_date</th>\n",
              "      <th>state</th>\n",
              "      <th>tot_cases</th>\n",
              "      <th>conf_cases</th>\n",
              "      <th>prob_cases</th>\n",
              "      <th>new_case</th>\n",
              "      <th>pnew_case</th>\n",
              "      <th>tot_death</th>\n",
              "      <th>conf_death</th>\n",
              "      <th>prob_death</th>\n",
              "      <th>new_death</th>\n",
              "      <th>pnew_death</th>\n",
              "      <th>created_at</th>\n",
              "      <th>consent_cases</th>\n",
              "      <th>consent_deaths</th>\n",
              "    </tr>\n",
              "  </thead>\n",
              "  <tbody>\n",
              "    <tr>\n",
              "      <th>23651</th>\n",
              "      <td>2020-01-22</td>\n",
              "      <td>AL</td>\n",
              "      <td>33</td>\n",
              "      <td>27.0</td>\n",
              "      <td>6.0</td>\n",
              "      <td>33</td>\n",
              "      <td>6.0</td>\n",
              "      <td>0</td>\n",
              "      <td>0.0</td>\n",
              "      <td>0.0</td>\n",
              "      <td>0</td>\n",
              "      <td>0.0</td>\n",
              "      <td>01/24/2020 12:00:00 AM</td>\n",
              "      <td>Agree</td>\n",
              "      <td>Agree</td>\n",
              "    </tr>\n",
              "    <tr>\n",
              "      <th>3962</th>\n",
              "      <td>2020-01-23</td>\n",
              "      <td>AL</td>\n",
              "      <td>34</td>\n",
              "      <td>28.0</td>\n",
              "      <td>6.0</td>\n",
              "      <td>1</td>\n",
              "      <td>0.0</td>\n",
              "      <td>0</td>\n",
              "      <td>0.0</td>\n",
              "      <td>0.0</td>\n",
              "      <td>0</td>\n",
              "      <td>0.0</td>\n",
              "      <td>01/25/2020 12:00:00 AM</td>\n",
              "      <td>Agree</td>\n",
              "      <td>Agree</td>\n",
              "    </tr>\n",
              "    <tr>\n",
              "      <th>5502</th>\n",
              "      <td>2020-01-24</td>\n",
              "      <td>AL</td>\n",
              "      <td>34</td>\n",
              "      <td>28.0</td>\n",
              "      <td>6.0</td>\n",
              "      <td>0</td>\n",
              "      <td>0.0</td>\n",
              "      <td>0</td>\n",
              "      <td>0.0</td>\n",
              "      <td>0.0</td>\n",
              "      <td>0</td>\n",
              "      <td>0.0</td>\n",
              "      <td>01/26/2020 12:00:00 AM</td>\n",
              "      <td>Agree</td>\n",
              "      <td>Agree</td>\n",
              "    </tr>\n",
              "    <tr>\n",
              "      <th>26587</th>\n",
              "      <td>2020-01-25</td>\n",
              "      <td>AL</td>\n",
              "      <td>37</td>\n",
              "      <td>31.0</td>\n",
              "      <td>6.0</td>\n",
              "      <td>3</td>\n",
              "      <td>0.0</td>\n",
              "      <td>0</td>\n",
              "      <td>0.0</td>\n",
              "      <td>0.0</td>\n",
              "      <td>0</td>\n",
              "      <td>0.0</td>\n",
              "      <td>01/27/2020 12:00:00 AM</td>\n",
              "      <td>Agree</td>\n",
              "      <td>Agree</td>\n",
              "    </tr>\n",
              "    <tr>\n",
              "      <th>4136</th>\n",
              "      <td>2020-01-26</td>\n",
              "      <td>AL</td>\n",
              "      <td>37</td>\n",
              "      <td>31.0</td>\n",
              "      <td>6.0</td>\n",
              "      <td>0</td>\n",
              "      <td>0.0</td>\n",
              "      <td>0</td>\n",
              "      <td>0.0</td>\n",
              "      <td>0.0</td>\n",
              "      <td>0</td>\n",
              "      <td>0.0</td>\n",
              "      <td>01/28/2020 12:00:00 AM</td>\n",
              "      <td>Agree</td>\n",
              "      <td>Agree</td>\n",
              "    </tr>\n",
              "    <tr>\n",
              "      <th>3336</th>\n",
              "      <td>2020-01-27</td>\n",
              "      <td>AL</td>\n",
              "      <td>38</td>\n",
              "      <td>32.0</td>\n",
              "      <td>6.0</td>\n",
              "      <td>1</td>\n",
              "      <td>0.0</td>\n",
              "      <td>0</td>\n",
              "      <td>0.0</td>\n",
              "      <td>0.0</td>\n",
              "      <td>0</td>\n",
              "      <td>0.0</td>\n",
              "      <td>01/29/2020 12:00:00 AM</td>\n",
              "      <td>Agree</td>\n",
              "      <td>Agree</td>\n",
              "    </tr>\n",
              "    <tr>\n",
              "      <th>28488</th>\n",
              "      <td>2020-01-28</td>\n",
              "      <td>AL</td>\n",
              "      <td>39</td>\n",
              "      <td>33.0</td>\n",
              "      <td>6.0</td>\n",
              "      <td>1</td>\n",
              "      <td>0.0</td>\n",
              "      <td>0</td>\n",
              "      <td>0.0</td>\n",
              "      <td>0.0</td>\n",
              "      <td>0</td>\n",
              "      <td>0.0</td>\n",
              "      <td>01/30/2020 12:00:00 AM</td>\n",
              "      <td>Agree</td>\n",
              "      <td>Agree</td>\n",
              "    </tr>\n",
              "    <tr>\n",
              "      <th>1549</th>\n",
              "      <td>2020-01-29</td>\n",
              "      <td>AL</td>\n",
              "      <td>40</td>\n",
              "      <td>34.0</td>\n",
              "      <td>6.0</td>\n",
              "      <td>1</td>\n",
              "      <td>0.0</td>\n",
              "      <td>0</td>\n",
              "      <td>0.0</td>\n",
              "      <td>0.0</td>\n",
              "      <td>0</td>\n",
              "      <td>0.0</td>\n",
              "      <td>01/31/2020 12:00:00 AM</td>\n",
              "      <td>Agree</td>\n",
              "      <td>Agree</td>\n",
              "    </tr>\n",
              "    <tr>\n",
              "      <th>23713</th>\n",
              "      <td>2020-01-30</td>\n",
              "      <td>AL</td>\n",
              "      <td>42</td>\n",
              "      <td>36.0</td>\n",
              "      <td>6.0</td>\n",
              "      <td>2</td>\n",
              "      <td>0.0</td>\n",
              "      <td>0</td>\n",
              "      <td>0.0</td>\n",
              "      <td>0.0</td>\n",
              "      <td>0</td>\n",
              "      <td>0.0</td>\n",
              "      <td>02/01/2020 12:00:00 AM</td>\n",
              "      <td>Agree</td>\n",
              "      <td>Agree</td>\n",
              "    </tr>\n",
              "    <tr>\n",
              "      <th>25618</th>\n",
              "      <td>2020-01-31</td>\n",
              "      <td>AL</td>\n",
              "      <td>44</td>\n",
              "      <td>36.0</td>\n",
              "      <td>8.0</td>\n",
              "      <td>2</td>\n",
              "      <td>2.0</td>\n",
              "      <td>0</td>\n",
              "      <td>0.0</td>\n",
              "      <td>0.0</td>\n",
              "      <td>0</td>\n",
              "      <td>0.0</td>\n",
              "      <td>02/02/2020 12:00:00 AM</td>\n",
              "      <td>Agree</td>\n",
              "      <td>Agree</td>\n",
              "    </tr>\n",
              "  </tbody>\n",
              "</table>\n",
              "</div>"
            ],
            "text/plain": [
              "      submission_date state  ...  consent_cases  consent_deaths\n",
              "23651      2020-01-22    AL  ...          Agree           Agree\n",
              "3962       2020-01-23    AL  ...          Agree           Agree\n",
              "5502       2020-01-24    AL  ...          Agree           Agree\n",
              "26587      2020-01-25    AL  ...          Agree           Agree\n",
              "4136       2020-01-26    AL  ...          Agree           Agree\n",
              "3336       2020-01-27    AL  ...          Agree           Agree\n",
              "28488      2020-01-28    AL  ...          Agree           Agree\n",
              "1549       2020-01-29    AL  ...          Agree           Agree\n",
              "23713      2020-01-30    AL  ...          Agree           Agree\n",
              "25618      2020-01-31    AL  ...          Agree           Agree\n",
              "\n",
              "[10 rows x 15 columns]"
            ]
          },
          "metadata": {
            "tags": []
          },
          "execution_count": 3
        }
      ]
    },
    {
      "cell_type": "code",
      "metadata": {
        "id": "qjw4--AkBoZN"
      },
      "source": [
        "marker_2020 = US_COVID19_Cases[\"submission_date\"].str.contains(\"2020-\")\n",
        "marker_2021 = US_COVID19_Cases[\"submission_date\"].str.contains(\"2021-\")\n",
        "US_COVID19_Cases_2020 = US_COVID19_Cases[marker_2020]\n",
        "US_COVID19_Cases_2021 = US_COVID19_Cases[marker_2021]"
      ],
      "execution_count": 4,
      "outputs": []
    },
    {
      "cell_type": "markdown",
      "metadata": {
        "id": "fJiCjOzH_zzI"
      },
      "source": [
        "## 전체 데이터 년도별로 분리 저장"
      ]
    },
    {
      "cell_type": "code",
      "metadata": {
        "id": "hzpwg2a_Mjuw"
      },
      "source": [
        "# 전체 데이터 년도별로 분리 저장\n",
        "US_COVID19_Cases_2020.to_csv(\"/content/drive/MyDrive/DACON/US_COVID19_Cases_2020.csv\", encoding='utf-8-sig')\n",
        "US_COVID19_Cases_2021.to_csv(\"/content/drive/MyDrive/DACON/US_COVID19_Cases_2021.csv\", encoding='utf-8-sig')"
      ],
      "execution_count": 5,
      "outputs": []
    },
    {
      "cell_type": "markdown",
      "metadata": {
        "id": "ElWp47PH_7Vn"
      },
      "source": [
        "## 달별 미국 확진자 수 csv 파일 생성"
      ]
    },
    {
      "cell_type": "code",
      "metadata": {
        "id": "GEtXvqcsQ_mZ"
      },
      "source": [
        "# 달별 확진자 수 csv 파일 만들기\n",
        "\n",
        "month = [\"January\",\"February\",\"March\",\"April\",\"May\",\"June\",\"July\",\"August\",\"September\",\"October\",\"November\",\"December\"]\n",
        "new_case_2020 = pd.DataFrame(columns=[\"new_case\"], index = month)\n",
        "new_case_2021 = pd.DataFrame(columns=[\"new_case\"], index = month)\n",
        "case_2020_idx = []\n",
        "case_2021_idx = []\n",
        "for i in range(1, 13):\n",
        "    if i < 10:\n",
        "        n = \"0\"+ str(i)\n",
        "    else:\n",
        "        n = str(i)\n",
        "    case_2020_idx.append(US_COVID19_Cases_2020[\"submission_date\"].str.contains(\"2020-\" + n, na = True))\n",
        "    case_2021_idx.append(US_COVID19_Cases_2021[\"submission_date\"].str.contains(\"2021-\" + n, na = True))\n",
        "\n",
        "for i in range(12):\n",
        "    new_case_2020.loc[month[i]] = [US_COVID19_Cases_2020[\"new_case\"][case_2020_idx[i]].sum()]\n",
        "    new_case_2021.loc[month[i]] = [US_COVID19_Cases_2021[\"new_case\"][case_2021_idx[i]].sum()]\n",
        "\n",
        "new_case_2020.to_csv(\"/content/drive/MyDrive/DACON/US_Newcase_2020.csv\", encoding='utf-8-sig')\n",
        "new_case_2021.to_csv(\"/content/drive/MyDrive/DACON/US_Newcase_2021.csv\", encoding='utf-8-sig')"
      ],
      "execution_count": 6,
      "outputs": []
    },
    {
      "cell_type": "code",
      "metadata": {
        "colab": {
          "base_uri": "https://localhost:8080/",
          "height": 421
        },
        "id": "umA4T3Zjs3fQ",
        "outputId": "19240cb3-3962-421a-d247-e4008fc96d3b"
      },
      "source": [
        "new_case_2020"
      ],
      "execution_count": 7,
      "outputs": [
        {
          "output_type": "execute_result",
          "data": {
            "text/html": [
              "<div>\n",
              "<style scoped>\n",
              "    .dataframe tbody tr th:only-of-type {\n",
              "        vertical-align: middle;\n",
              "    }\n",
              "\n",
              "    .dataframe tbody tr th {\n",
              "        vertical-align: top;\n",
              "    }\n",
              "\n",
              "    .dataframe thead th {\n",
              "        text-align: right;\n",
              "    }\n",
              "</style>\n",
              "<table border=\"1\" class=\"dataframe\">\n",
              "  <thead>\n",
              "    <tr style=\"text-align: right;\">\n",
              "      <th></th>\n",
              "      <th>new_case</th>\n",
              "    </tr>\n",
              "  </thead>\n",
              "  <tbody>\n",
              "    <tr>\n",
              "      <th>January</th>\n",
              "      <td>44</td>\n",
              "    </tr>\n",
              "    <tr>\n",
              "      <th>February</th>\n",
              "      <td>56</td>\n",
              "    </tr>\n",
              "    <tr>\n",
              "      <th>March</th>\n",
              "      <td>85535</td>\n",
              "    </tr>\n",
              "    <tr>\n",
              "      <th>April</th>\n",
              "      <td>326327</td>\n",
              "    </tr>\n",
              "    <tr>\n",
              "      <th>May</th>\n",
              "      <td>368490</td>\n",
              "    </tr>\n",
              "    <tr>\n",
              "      <th>June</th>\n",
              "      <td>356634</td>\n",
              "    </tr>\n",
              "    <tr>\n",
              "      <th>July</th>\n",
              "      <td>685529</td>\n",
              "    </tr>\n",
              "    <tr>\n",
              "      <th>August</th>\n",
              "      <td>546391</td>\n",
              "    </tr>\n",
              "    <tr>\n",
              "      <th>September</th>\n",
              "      <td>553366</td>\n",
              "    </tr>\n",
              "    <tr>\n",
              "      <th>October</th>\n",
              "      <td>964013</td>\n",
              "    </tr>\n",
              "    <tr>\n",
              "      <th>November</th>\n",
              "      <td>2065574</td>\n",
              "    </tr>\n",
              "    <tr>\n",
              "      <th>December</th>\n",
              "      <td>2712616</td>\n",
              "    </tr>\n",
              "  </tbody>\n",
              "</table>\n",
              "</div>"
            ],
            "text/plain": [
              "          new_case\n",
              "January         44\n",
              "February        56\n",
              "March        85535\n",
              "April       326327\n",
              "May         368490\n",
              "June        356634\n",
              "July        685529\n",
              "August      546391\n",
              "September   553366\n",
              "October     964013\n",
              "November   2065574\n",
              "December   2712616"
            ]
          },
          "metadata": {
            "tags": []
          },
          "execution_count": 7
        }
      ]
    },
    {
      "cell_type": "code",
      "metadata": {
        "colab": {
          "base_uri": "https://localhost:8080/",
          "height": 421
        },
        "id": "Yj5R8JeX2gqa",
        "outputId": "23fd526e-abf2-4643-fe7b-65ada23d0c2e"
      },
      "source": [
        "new_case_2021"
      ],
      "execution_count": 8,
      "outputs": [
        {
          "output_type": "execute_result",
          "data": {
            "text/html": [
              "<div>\n",
              "<style scoped>\n",
              "    .dataframe tbody tr th:only-of-type {\n",
              "        vertical-align: middle;\n",
              "    }\n",
              "\n",
              "    .dataframe tbody tr th {\n",
              "        vertical-align: top;\n",
              "    }\n",
              "\n",
              "    .dataframe thead th {\n",
              "        text-align: right;\n",
              "    }\n",
              "</style>\n",
              "<table border=\"1\" class=\"dataframe\">\n",
              "  <thead>\n",
              "    <tr style=\"text-align: right;\">\n",
              "      <th></th>\n",
              "      <th>new_case</th>\n",
              "    </tr>\n",
              "  </thead>\n",
              "  <tbody>\n",
              "    <tr>\n",
              "      <th>January</th>\n",
              "      <td>2582607</td>\n",
              "    </tr>\n",
              "    <tr>\n",
              "      <th>February</th>\n",
              "      <td>1059251</td>\n",
              "    </tr>\n",
              "    <tr>\n",
              "      <th>March</th>\n",
              "      <td>916014</td>\n",
              "    </tr>\n",
              "    <tr>\n",
              "      <th>April</th>\n",
              "      <td>949937</td>\n",
              "    </tr>\n",
              "    <tr>\n",
              "      <th>May</th>\n",
              "      <td>412944</td>\n",
              "    </tr>\n",
              "    <tr>\n",
              "      <th>June</th>\n",
              "      <td>153377</td>\n",
              "    </tr>\n",
              "    <tr>\n",
              "      <th>July</th>\n",
              "      <td>249885</td>\n",
              "    </tr>\n",
              "    <tr>\n",
              "      <th>August</th>\n",
              "      <td>0</td>\n",
              "    </tr>\n",
              "    <tr>\n",
              "      <th>September</th>\n",
              "      <td>0</td>\n",
              "    </tr>\n",
              "    <tr>\n",
              "      <th>October</th>\n",
              "      <td>0</td>\n",
              "    </tr>\n",
              "    <tr>\n",
              "      <th>November</th>\n",
              "      <td>0</td>\n",
              "    </tr>\n",
              "    <tr>\n",
              "      <th>December</th>\n",
              "      <td>0</td>\n",
              "    </tr>\n",
              "  </tbody>\n",
              "</table>\n",
              "</div>"
            ],
            "text/plain": [
              "          new_case\n",
              "January    2582607\n",
              "February   1059251\n",
              "March       916014\n",
              "April       949937\n",
              "May         412944\n",
              "June        153377\n",
              "July        249885\n",
              "August           0\n",
              "September        0\n",
              "October          0\n",
              "November         0\n",
              "December         0"
            ]
          },
          "metadata": {
            "tags": []
          },
          "execution_count": 8
        }
      ]
    },
    {
      "cell_type": "markdown",
      "metadata": {
        "id": "H466XQKcAMlb"
      },
      "source": [
        "## 그래프 그리기"
      ]
    },
    {
      "cell_type": "code",
      "metadata": {
        "colab": {
          "base_uri": "https://localhost:8080/",
          "height": 373
        },
        "id": "B7ihTrh63QJH",
        "outputId": "3b73af39-95ed-4583-a0e5-0bdc4e0510c5"
      },
      "source": [
        "ax = new_case_2020.plot(kind = \"bar\", title = \"2020\", figsize=(12, 4), legend=True, fontsize=12)\n",
        "ax.set_xlabel(\"month\", fontsize=12)  \n",
        "ax.set_ylabel(\"new_case\", fontsize=12)"
      ],
      "execution_count": 9,
      "outputs": [
        {
          "output_type": "execute_result",
          "data": {
            "text/plain": [
              "Text(0, 0.5, 'new_case')"
            ]
          },
          "metadata": {
            "tags": []
          },
          "execution_count": 9
        },
        {
          "output_type": "display_data",
          "data": {
            "image/png": "[encoded data removed]",
            "text/plain": [
              "<Figure size 864x288 with 1 Axes>"
            ]
          },
          "metadata": {
            "tags": [],
            "needs_background": "light"
          }
        }
      ]
    },
    {
      "cell_type": "code",
      "metadata": {
        "colab": {
          "base_uri": "https://localhost:8080/",
          "height": 373
        },
        "id": "VsGZOOtd4XPo",
        "outputId": "28e78ede-acf6-4de9-9d49-f492a0d2c096"
      },
      "source": [
        "ax = new_case_2021.plot(kind = \"bar\", title = \"2021\", figsize=(12, 4), legend=True, fontsize=12)\n",
        "ax.set_xlabel(\"month\", fontsize=12)  \n",
        "ax.set_ylabel(\"new_case\", fontsize=12)"
      ],
      "execution_count": 10,
      "outputs": [
        {
          "output_type": "execute_result",
          "data": {
            "text/plain": [
              "Text(0, 0.5, 'new_case')"
            ]
          },
          "metadata": {
            "tags": []
          },
          "execution_count": 10
        },
        {
          "output_type": "display_data",
          "data": {
            "image/png": "[encoded data removed]",
            "text/plain": [
              "<Figure size 864x288 with 1 Axes>"
            ]
          },
          "metadata": {
            "tags": [],
            "needs_background": "light"
          }
        }
      ]
    },
    {
      "cell_type": "markdown",
      "metadata": {
        "id": "A9ZHncNCAQ-W"
      },
      "source": [
        "# 미국 달별 백신 접종자 수 데이터"
      ]
    },
    {
      "cell_type": "code",
      "metadata": {
        "colab": {
          "base_uri": "https://localhost:8080/",
          "height": 111
        },
        "id": "LWjBMU98_PQg",
        "outputId": "c47272df-ac59-419b-995f-9b34f022b80b"
      },
      "source": [
        "US_Month_Vaccinated = pd.read_csv(\"/content/drive/MyDrive/DACON/US_vaccinated.csv\")\n",
        "US_Month_Vaccinated.index = ['number_of_vaccinations', 'vaccination_rate']\n",
        "US_Month_Vaccinated"
      ],
      "execution_count": 11,
      "outputs": [
        {
          "output_type": "execute_result",
          "data": {
            "text/html": [
              "<div>\n",
              "<style scoped>\n",
              "    .dataframe tbody tr th:only-of-type {\n",
              "        vertical-align: middle;\n",
              "    }\n",
              "\n",
              "    .dataframe tbody tr th {\n",
              "        vertical-align: top;\n",
              "    }\n",
              "\n",
              "    .dataframe thead th {\n",
              "        text-align: right;\n",
              "    }\n",
              "</style>\n",
              "<table border=\"1\" class=\"dataframe\">\n",
              "  <thead>\n",
              "    <tr style=\"text-align: right;\">\n",
              "      <th></th>\n",
              "      <th>Unnamed: 0</th>\n",
              "      <th>2020-12-30</th>\n",
              "      <th>2021-01-31</th>\n",
              "      <th>2021-02-28</th>\n",
              "      <th>2021-03-31</th>\n",
              "      <th>2021-04-30</th>\n",
              "      <th>2021-05-30</th>\n",
              "      <th>2021-06-30</th>\n",
              "      <th>2021-07-31</th>\n",
              "    </tr>\n",
              "  </thead>\n",
              "  <tbody>\n",
              "    <tr>\n",
              "      <th>number_of_vaccinations</th>\n",
              "      <td>0</td>\n",
              "      <td>2794588.0</td>\n",
              "      <td>25201143.0</td>\n",
              "      <td>49772180.0</td>\n",
              "      <td>97593290.0</td>\n",
              "      <td>144894586.0</td>\n",
              "      <td>167733972.0</td>\n",
              "      <td>180674739.0</td>\n",
              "      <td>190982149.0</td>\n",
              "    </tr>\n",
              "    <tr>\n",
              "      <th>vaccination_rate</th>\n",
              "      <td>1</td>\n",
              "      <td>0.9</td>\n",
              "      <td>7.7</td>\n",
              "      <td>15.2</td>\n",
              "      <td>29.7</td>\n",
              "      <td>44.1</td>\n",
              "      <td>51.1</td>\n",
              "      <td>55.1</td>\n",
              "      <td>58.2</td>\n",
              "    </tr>\n",
              "  </tbody>\n",
              "</table>\n",
              "</div>"
            ],
            "text/plain": [
              "                        Unnamed: 0  2020-12-30  ...  2021-06-30  2021-07-31\n",
              "number_of_vaccinations           0   2794588.0  ... 180674739.0 190982149.0\n",
              "vaccination_rate                 1         0.9  ...        55.1        58.2\n",
              "\n",
              "[2 rows x 9 columns]"
            ]
          },
          "metadata": {
            "tags": []
          },
          "execution_count": 11
        }
      ]
    },
    {
      "cell_type": "code",
      "metadata": {
        "id": "TD-ev9SxAs9M"
      },
      "source": [
        "# 행렬 바꾸기 .transpose()\n",
        "US_Month_Vaccinated = US_Month_Vaccinated.transpose()"
      ],
      "execution_count": 12,
      "outputs": []
    },
    {
      "cell_type": "code",
      "metadata": {
        "colab": {
          "base_uri": "https://localhost:8080/",
          "height": 297
        },
        "id": "sQ4Yrg4uGidG",
        "outputId": "ebc96997-f90d-4b31-b268-e628a3040159"
      },
      "source": [
        "US_Month_Vaccinated = US_Month_Vaccinated.drop(US_Month_Vaccinated.index[0])\n",
        "US_Month_Vaccinated.to_csv(\"/content/drive/MyDrive/DACON/US_Month_Vaccinated.csv\")\n",
        "US_Month_Vaccinated"
      ],
      "execution_count": 13,
      "outputs": [
        {
          "output_type": "execute_result",
          "data": {
            "text/html": [
              "<div>\n",
              "<style scoped>\n",
              "    .dataframe tbody tr th:only-of-type {\n",
              "        vertical-align: middle;\n",
              "    }\n",
              "\n",
              "    .dataframe tbody tr th {\n",
              "        vertical-align: top;\n",
              "    }\n",
              "\n",
              "    .dataframe thead th {\n",
              "        text-align: right;\n",
              "    }\n",
              "</style>\n",
              "<table border=\"1\" class=\"dataframe\">\n",
              "  <thead>\n",
              "    <tr style=\"text-align: right;\">\n",
              "      <th></th>\n",
              "      <th>number_of_vaccinations</th>\n",
              "      <th>vaccination_rate</th>\n",
              "    </tr>\n",
              "  </thead>\n",
              "  <tbody>\n",
              "    <tr>\n",
              "      <th>2020-12-30</th>\n",
              "      <td>2794588.0</td>\n",
              "      <td>0.9</td>\n",
              "    </tr>\n",
              "    <tr>\n",
              "      <th>2021-01-31</th>\n",
              "      <td>25201143.0</td>\n",
              "      <td>7.7</td>\n",
              "    </tr>\n",
              "    <tr>\n",
              "      <th>2021-02-28</th>\n",
              "      <td>49772180.0</td>\n",
              "      <td>15.2</td>\n",
              "    </tr>\n",
              "    <tr>\n",
              "      <th>2021-03-31</th>\n",
              "      <td>97593290.0</td>\n",
              "      <td>29.7</td>\n",
              "    </tr>\n",
              "    <tr>\n",
              "      <th>2021-04-30</th>\n",
              "      <td>144894586.0</td>\n",
              "      <td>44.1</td>\n",
              "    </tr>\n",
              "    <tr>\n",
              "      <th>2021-05-30</th>\n",
              "      <td>167733972.0</td>\n",
              "      <td>51.1</td>\n",
              "    </tr>\n",
              "    <tr>\n",
              "      <th>2021-06-30</th>\n",
              "      <td>180674739.0</td>\n",
              "      <td>55.1</td>\n",
              "    </tr>\n",
              "    <tr>\n",
              "      <th>2021-07-31</th>\n",
              "      <td>190982149.0</td>\n",
              "      <td>58.2</td>\n",
              "    </tr>\n",
              "  </tbody>\n",
              "</table>\n",
              "</div>"
            ],
            "text/plain": [
              "            number_of_vaccinations  vaccination_rate\n",
              "2020-12-30               2794588.0               0.9\n",
              "2021-01-31              25201143.0               7.7\n",
              "2021-02-28              49772180.0              15.2\n",
              "2021-03-31              97593290.0              29.7\n",
              "2021-04-30             144894586.0              44.1\n",
              "2021-05-30             167733972.0              51.1\n",
              "2021-06-30             180674739.0              55.1\n",
              "2021-07-31             190982149.0              58.2"
            ]
          },
          "metadata": {
            "tags": []
          },
          "execution_count": 13
        }
      ]
    },
    {
      "cell_type": "code",
      "metadata": {
        "colab": {
          "base_uri": "https://localhost:8080/",
          "height": 359
        },
        "id": "6bMG23RR5Ti3",
        "outputId": "a1dd7290-f457-42f6-c498-9577515106f3"
      },
      "source": [
        "US_Day_Newcase = pd.read_csv(\"/content/drive/MyDrive/DACON/US_Day_Newcase.csv\")\n",
        "US_Day_Newcase.head(10)"
      ],
      "execution_count": 14,
      "outputs": [
        {
          "output_type": "execute_result",
          "data": {
            "text/html": [
              "<div>\n",
              "<style scoped>\n",
              "    .dataframe tbody tr th:only-of-type {\n",
              "        vertical-align: middle;\n",
              "    }\n",
              "\n",
              "    .dataframe tbody tr th {\n",
              "        vertical-align: top;\n",
              "    }\n",
              "\n",
              "    .dataframe thead th {\n",
              "        text-align: right;\n",
              "    }\n",
              "</style>\n",
              "<table border=\"1\" class=\"dataframe\">\n",
              "  <thead>\n",
              "    <tr style=\"text-align: right;\">\n",
              "      <th></th>\n",
              "      <th>submission_date</th>\n",
              "      <th>new_case</th>\n",
              "    </tr>\n",
              "  </thead>\n",
              "  <tbody>\n",
              "    <tr>\n",
              "      <th>0</th>\n",
              "      <td>2020-12-20</td>\n",
              "      <td>65418</td>\n",
              "    </tr>\n",
              "    <tr>\n",
              "      <th>1</th>\n",
              "      <td>2020-12-21</td>\n",
              "      <td>70458</td>\n",
              "    </tr>\n",
              "    <tr>\n",
              "      <th>2</th>\n",
              "      <td>2020-12-22</td>\n",
              "      <td>92159</td>\n",
              "    </tr>\n",
              "    <tr>\n",
              "      <th>3</th>\n",
              "      <td>2020-12-23</td>\n",
              "      <td>91294</td>\n",
              "    </tr>\n",
              "    <tr>\n",
              "      <th>4</th>\n",
              "      <td>2020-12-24</td>\n",
              "      <td>59310</td>\n",
              "    </tr>\n",
              "    <tr>\n",
              "      <th>5</th>\n",
              "      <td>2020-12-25</td>\n",
              "      <td>55322</td>\n",
              "    </tr>\n",
              "    <tr>\n",
              "      <th>6</th>\n",
              "      <td>2020-12-26</td>\n",
              "      <td>83159</td>\n",
              "    </tr>\n",
              "    <tr>\n",
              "      <th>7</th>\n",
              "      <td>2020-12-27</td>\n",
              "      <td>51447</td>\n",
              "    </tr>\n",
              "    <tr>\n",
              "      <th>8</th>\n",
              "      <td>2020-12-28</td>\n",
              "      <td>81772</td>\n",
              "    </tr>\n",
              "    <tr>\n",
              "      <th>9</th>\n",
              "      <td>2020-12-29</td>\n",
              "      <td>94464</td>\n",
              "    </tr>\n",
              "  </tbody>\n",
              "</table>\n",
              "</div>"
            ],
            "text/plain": [
              "  submission_date  new_case\n",
              "0      2020-12-20     65418\n",
              "1      2020-12-21     70458\n",
              "2      2020-12-22     92159\n",
              "3      2020-12-23     91294\n",
              "4      2020-12-24     59310\n",
              "5      2020-12-25     55322\n",
              "6      2020-12-26     83159\n",
              "7      2020-12-27     51447\n",
              "8      2020-12-28     81772\n",
              "9      2020-12-29     94464"
            ]
          },
          "metadata": {
            "tags": []
          },
          "execution_count": 14
        }
      ]
    },
    {
      "cell_type": "code",
      "metadata": {
        "colab": {
          "base_uri": "https://localhost:8080/"
        },
        "id": "pYuU0hp1IhnG",
        "outputId": "d1f46248-6246-48c4-894e-8a78dc870bea"
      },
      "source": [
        "print(len(US_Day_Newcase[\"submission_date\"]))"
      ],
      "execution_count": 15,
      "outputs": [
        {
          "output_type": "stream",
          "text": [
            "218\n"
          ],
          "name": "stdout"
        }
      ]
    },
    {
      "cell_type": "code",
      "metadata": {
        "colab": {
          "base_uri": "https://localhost:8080/",
          "height": 359
        },
        "id": "vFfRFvf0yfb3",
        "outputId": "3fb0d842-893c-4c4a-b653-6bf155e6c5f2"
      },
      "source": [
        "US_Day_Vaccinated = pd.read_csv(\"/content/drive/MyDrive/DACON/US_Vaccinated.csv\")\n",
        "US_Day_Vaccinated.head(10)"
      ],
      "execution_count": 16,
      "outputs": [
        {
          "output_type": "execute_result",
          "data": {
            "text/html": [
              "<div>\n",
              "<style scoped>\n",
              "    .dataframe tbody tr th:only-of-type {\n",
              "        vertical-align: middle;\n",
              "    }\n",
              "\n",
              "    .dataframe tbody tr th {\n",
              "        vertical-align: top;\n",
              "    }\n",
              "\n",
              "    .dataframe thead th {\n",
              "        text-align: right;\n",
              "    }\n",
              "</style>\n",
              "<table border=\"1\" class=\"dataframe\">\n",
              "  <thead>\n",
              "    <tr style=\"text-align: right;\">\n",
              "      <th></th>\n",
              "      <th>date</th>\n",
              "      <th>people_vaccinated</th>\n",
              "    </tr>\n",
              "  </thead>\n",
              "  <tbody>\n",
              "    <tr>\n",
              "      <th>0</th>\n",
              "      <td>2020-12-20</td>\n",
              "      <td>556208.0</td>\n",
              "    </tr>\n",
              "    <tr>\n",
              "      <th>1</th>\n",
              "      <td>2020-12-21</td>\n",
              "      <td>614117.0</td>\n",
              "    </tr>\n",
              "    <tr>\n",
              "      <th>2</th>\n",
              "      <td>2020-12-23</td>\n",
              "      <td>1008025.0</td>\n",
              "    </tr>\n",
              "    <tr>\n",
              "      <th>3</th>\n",
              "      <td>2020-12-26</td>\n",
              "      <td>1944585.0</td>\n",
              "    </tr>\n",
              "    <tr>\n",
              "      <th>4</th>\n",
              "      <td>2020-12-28</td>\n",
              "      <td>2127143.0</td>\n",
              "    </tr>\n",
              "    <tr>\n",
              "      <th>5</th>\n",
              "      <td>2020-12-30</td>\n",
              "      <td>2794588.0</td>\n",
              "    </tr>\n",
              "    <tr>\n",
              "      <th>6</th>\n",
              "      <td>2021-01-02</td>\n",
              "      <td>4225756.0</td>\n",
              "    </tr>\n",
              "    <tr>\n",
              "      <th>7</th>\n",
              "      <td>2021-01-04</td>\n",
              "      <td>4563260.0</td>\n",
              "    </tr>\n",
              "    <tr>\n",
              "      <th>8</th>\n",
              "      <td>2021-01-05</td>\n",
              "      <td>4836469.0</td>\n",
              "    </tr>\n",
              "    <tr>\n",
              "      <th>9</th>\n",
              "      <td>2021-01-06</td>\n",
              "      <td>5306797.0</td>\n",
              "    </tr>\n",
              "  </tbody>\n",
              "</table>\n",
              "</div>"
            ],
            "text/plain": [
              "         date  people_vaccinated\n",
              "0  2020-12-20           556208.0\n",
              "1  2020-12-21           614117.0\n",
              "2  2020-12-23          1008025.0\n",
              "3  2020-12-26          1944585.0\n",
              "4  2020-12-28          2127143.0\n",
              "5  2020-12-30          2794588.0\n",
              "6  2021-01-02          4225756.0\n",
              "7  2021-01-04          4563260.0\n",
              "8  2021-01-05          4836469.0\n",
              "9  2021-01-06          5306797.0"
            ]
          },
          "metadata": {
            "tags": []
          },
          "execution_count": 16
        }
      ]
    },
    {
      "cell_type": "code",
      "metadata": {
        "colab": {
          "base_uri": "https://localhost:8080/",
          "height": 49
        },
        "id": "y8_DIbNK7JCk",
        "outputId": "727963f8-b1ec-4788-b530-a8f983577aa7"
      },
      "source": [
        "US_Day_Data = pd.DataFrame( columns = [\"date\", \"new_case\", \"people_vaccinated\"])\n",
        "US_Day_Data "
      ],
      "execution_count": 17,
      "outputs": [
        {
          "output_type": "execute_result",
          "data": {
            "text/html": [
              "<div>\n",
              "<style scoped>\n",
              "    .dataframe tbody tr th:only-of-type {\n",
              "        vertical-align: middle;\n",
              "    }\n",
              "\n",
              "    .dataframe tbody tr th {\n",
              "        vertical-align: top;\n",
              "    }\n",
              "\n",
              "    .dataframe thead th {\n",
              "        text-align: right;\n",
              "    }\n",
              "</style>\n",
              "<table border=\"1\" class=\"dataframe\">\n",
              "  <thead>\n",
              "    <tr style=\"text-align: right;\">\n",
              "      <th></th>\n",
              "      <th>date</th>\n",
              "      <th>new_case</th>\n",
              "      <th>people_vaccinated</th>\n",
              "    </tr>\n",
              "  </thead>\n",
              "  <tbody>\n",
              "  </tbody>\n",
              "</table>\n",
              "</div>"
            ],
            "text/plain": [
              "Empty DataFrame\n",
              "Columns: [date, new_case, people_vaccinated]\n",
              "Index: []"
            ]
          },
          "metadata": {
            "tags": []
          },
          "execution_count": 17
        }
      ]
    },
    {
      "cell_type": "code",
      "metadata": {
        "id": "4vqLDujEKwA2"
      },
      "source": [
        "k = 0\n",
        "for i, value in enumerate(US_Day_Vaccinated['date']):\n",
        "    if value in list(US_Day_Vaccinated['date']):\n",
        "        temp = list(US_Day_Vaccinated['date'])\n",
        "        idx = temp.index(value)\n",
        "        US_Day_Data.loc[k] = [value, US_Day_Newcase[\"new_case\"][i], US_Day_Vaccinated['people_vaccinated'][idx]]\n",
        "        k += 1"
      ],
      "execution_count": 18,
      "outputs": []
    },
    {
      "cell_type": "code",
      "metadata": {
        "colab": {
          "base_uri": "https://localhost:8080/",
          "height": 359
        },
        "id": "C7jBoDE9J79q",
        "outputId": "948ed85a-bd67-4928-95ec-d44832c21fac"
      },
      "source": [
        "US_Day_Data.head(10)"
      ],
      "execution_count": 19,
      "outputs": [
        {
          "output_type": "execute_result",
          "data": {
            "text/html": [
              "<div>\n",
              "<style scoped>\n",
              "    .dataframe tbody tr th:only-of-type {\n",
              "        vertical-align: middle;\n",
              "    }\n",
              "\n",
              "    .dataframe tbody tr th {\n",
              "        vertical-align: top;\n",
              "    }\n",
              "\n",
              "    .dataframe thead th {\n",
              "        text-align: right;\n",
              "    }\n",
              "</style>\n",
              "<table border=\"1\" class=\"dataframe\">\n",
              "  <thead>\n",
              "    <tr style=\"text-align: right;\">\n",
              "      <th></th>\n",
              "      <th>date</th>\n",
              "      <th>new_case</th>\n",
              "      <th>people_vaccinated</th>\n",
              "    </tr>\n",
              "  </thead>\n",
              "  <tbody>\n",
              "    <tr>\n",
              "      <th>0</th>\n",
              "      <td>2020-12-20</td>\n",
              "      <td>65418</td>\n",
              "      <td>556208.0</td>\n",
              "    </tr>\n",
              "    <tr>\n",
              "      <th>1</th>\n",
              "      <td>2020-12-21</td>\n",
              "      <td>70458</td>\n",
              "      <td>614117.0</td>\n",
              "    </tr>\n",
              "    <tr>\n",
              "      <th>2</th>\n",
              "      <td>2020-12-23</td>\n",
              "      <td>92159</td>\n",
              "      <td>1008025.0</td>\n",
              "    </tr>\n",
              "    <tr>\n",
              "      <th>3</th>\n",
              "      <td>2020-12-26</td>\n",
              "      <td>91294</td>\n",
              "      <td>1944585.0</td>\n",
              "    </tr>\n",
              "    <tr>\n",
              "      <th>4</th>\n",
              "      <td>2020-12-28</td>\n",
              "      <td>59310</td>\n",
              "      <td>2127143.0</td>\n",
              "    </tr>\n",
              "    <tr>\n",
              "      <th>5</th>\n",
              "      <td>2020-12-30</td>\n",
              "      <td>55322</td>\n",
              "      <td>2794588.0</td>\n",
              "    </tr>\n",
              "    <tr>\n",
              "      <th>6</th>\n",
              "      <td>2021-01-02</td>\n",
              "      <td>83159</td>\n",
              "      <td>4225756.0</td>\n",
              "    </tr>\n",
              "    <tr>\n",
              "      <th>7</th>\n",
              "      <td>2021-01-04</td>\n",
              "      <td>51447</td>\n",
              "      <td>4563260.0</td>\n",
              "    </tr>\n",
              "    <tr>\n",
              "      <th>8</th>\n",
              "      <td>2021-01-05</td>\n",
              "      <td>81772</td>\n",
              "      <td>4836469.0</td>\n",
              "    </tr>\n",
              "    <tr>\n",
              "      <th>9</th>\n",
              "      <td>2021-01-06</td>\n",
              "      <td>94464</td>\n",
              "      <td>5306797.0</td>\n",
              "    </tr>\n",
              "  </tbody>\n",
              "</table>\n",
              "</div>"
            ],
            "text/plain": [
              "         date new_case  people_vaccinated\n",
              "0  2020-12-20    65418           556208.0\n",
              "1  2020-12-21    70458           614117.0\n",
              "2  2020-12-23    92159          1008025.0\n",
              "3  2020-12-26    91294          1944585.0\n",
              "4  2020-12-28    59310          2127143.0\n",
              "5  2020-12-30    55322          2794588.0\n",
              "6  2021-01-02    83159          4225756.0\n",
              "7  2021-01-04    51447          4563260.0\n",
              "8  2021-01-05    81772          4836469.0\n",
              "9  2021-01-06    94464          5306797.0"
            ]
          },
          "metadata": {
            "tags": []
          },
          "execution_count": 19
        }
      ]
    },
    {
      "cell_type": "code",
      "metadata": {
        "id": "S8__9Q38Lcz9"
      },
      "source": [
        "US_Day_Data.to_csv(\"/content/drive/MyDrive/DACON/US_Day_Data.csv\", index = False)"
      ],
      "execution_count": 20,
      "outputs": []
    }
  ]
}