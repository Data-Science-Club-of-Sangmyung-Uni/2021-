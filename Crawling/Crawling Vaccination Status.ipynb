{
  "nbformat": 4,
  "nbformat_minor": 0,
  "metadata": {
    "colab": {
      "name": "vaccinated Info.ipynb",
      "provenance": [],
      "collapsed_sections": []
    },
    "kernelspec": {
      "name": "python3",
      "display_name": "Python 3"
    },
    "language_info": {
      "name": "python"
    }
  },
  "cells": [
    {
      "cell_type": "code",
      "metadata": {
        "id": "3apAMbtct2Iu"
      },
      "source": [
        "import requests #http에 요청을 보낼 때 사용\n",
        "from bs4 import BeautifulSoup as bs#html정보를 filtering하기 위해 사용\n",
        "import datetime"
      ],
      "execution_count": 1,
      "outputs": []
    },
    {
      "cell_type": "code",
      "metadata": {
        "id": "GPxsWEaFuIuH"
      },
      "source": [
        "vaccinInfo_Url = \"https://ncv.kdca.go.kr/mainStatus.es?mid=a11702000000\"\n",
        "checkResponse = requests.get(vaccinInfo_Url)\n",
        "htmlInfo = bs(checkResponse.content, \"html.parser\")\n",
        "#htmlInfo"
      ],
      "execution_count": 2,
      "outputs": []
    },
    {
      "cell_type": "code",
      "metadata": {
        "colab": {
          "base_uri": "https://localhost:8080/"
        },
        "id": "1EXz_oKovD_1",
        "outputId": "dcac5063-5319-4c1d-b78b-89b76c73b4ed"
      },
      "source": [
        "vaccinInfo = htmlInfo.find_all(\"td\", class_=\"ta_r\") #1회차 접종:[당일실적, 당일 누계], 2회차 접종:[당일실적, 당일 누계]\n",
        "print(vaccinInfo)"
      ],
      "execution_count": 3,
      "outputs": [
        {
          "output_type": "stream",
          "text": [
            "[<td class=\"ta_r\">39,795</td>, <td class=\"ta_r\">3,640,808</td>, <td class=\"ta_r\">4,188</td>, <td class=\"ta_r\">1,329,899</td>, <td class=\"ta_r\">15,738</td>, <td class=\"ta_r\">1,350,732</td>, <td class=\"ta_r\">382</td>, <td class=\"ta_r\">477,789</td>, <td class=\"ta_r\">10,673</td>, <td class=\"ta_r\">846,936</td>, <td class=\"ta_r\">197</td>, <td class=\"ta_r\">309,059</td>, <td class=\"ta_r\">14,748</td>, <td class=\"ta_r\">1,029,393</td>, <td class=\"ta_r\">402</td>, <td class=\"ta_r\">360,899</td>, <td class=\"ta_r\">6,998</td>, <td class=\"ta_r\">549,351</td>, <td class=\"ta_r\">214</td>, <td class=\"ta_r\">204,413</td>, <td class=\"ta_r\">5,864</td>, <td class=\"ta_r\">522,959</td>, <td class=\"ta_r\">143</td>, <td class=\"ta_r\">197,573</td>, <td class=\"ta_r\">5,117</td>, <td class=\"ta_r\">396,230</td>, <td class=\"ta_r\">72</td>, <td class=\"ta_r\">124,831</td>, <td class=\"ta_r\">2,068</td>, <td class=\"ta_r\">109,016</td>, <td class=\"ta_r\">69</td>, <td class=\"ta_r\">37,618</td>, <td class=\"ta_r\">58,132</td>, <td class=\"ta_r\">4,625,726</td>, <td class=\"ta_r\">5,744</td>, <td class=\"ta_r\">1,636,240</td>, <td class=\"ta_r\">4,688</td>, <td class=\"ta_r\">668,033</td>, <td class=\"ta_r\">161</td>, <td class=\"ta_r\">273,243</td>, <td class=\"ta_r\">6,385</td>, <td class=\"ta_r\">638,664</td>, <td class=\"ta_r\">202</td>, <td class=\"ta_r\">240,701</td>, <td class=\"ta_r\">7,656</td>, <td class=\"ta_r\">848,897</td>, <td class=\"ta_r\">280</td>, <td class=\"ta_r\">330,571</td>, <td class=\"ta_r\">6,600</td>, <td class=\"ta_r\">788,523</td>, <td class=\"ta_r\">181</td>, <td class=\"ta_r\">311,942</td>, <td class=\"ta_r\">6,152</td>, <td class=\"ta_r\">858,860</td>, <td class=\"ta_r\">245</td>, <td class=\"ta_r\">344,277</td>, <td class=\"ta_r\">8,512</td>, <td class=\"ta_r\">1,070,140</td>, <td class=\"ta_r\">400</td>, <td class=\"ta_r\">409,725</td>, <td class=\"ta_r\">12,444</td>, <td class=\"ta_r\">1,249,007</td>, <td class=\"ta_r\">313</td>, <td class=\"ta_r\">464,102</td>, <td class=\"ta_r\">2,713</td>, <td class=\"ta_r\">250,845</td>, <td class=\"ta_r\">147</td>, <td class=\"ta_r\">93,040</td>]\n"
          ],
          "name": "stdout"
        }
      ]
    },
    {
      "cell_type": "code",
      "metadata": {
        "colab": {
          "base_uri": "https://localhost:8080/"
        },
        "id": "ajN4bcyi0R9A",
        "outputId": "fa4049a4-a2dd-498c-f8a2-908a44670daa"
      },
      "source": [
        "cityInfo = htmlInfo.find_all(\"th\", scope=\"row\")\n",
        "print(cityInfo)"
      ],
      "execution_count": 4,
      "outputs": [
        {
          "output_type": "stream",
          "text": [
            "[<th scope=\"row\">당일 누적<span class=\"r_txt_descript clr_1\">A</span> + <span class=\"r_txt_descript clr_2\">B</span></th>, <th scope=\"row\">당일 실적<span class=\"r_txt_descript clr_1\">A</span></th>, <th scope=\"row\">전일 누적<span class=\"r_txt_descript clr_2\">B</span></th>, <th scope=\"row\">합계</th>, <th scope=\"row\">서울</th>, <th scope=\"row\">부산</th>, <th scope=\"row\">대구</th>, <th scope=\"row\">인천</th>, <th scope=\"row\">광주</th>, <th scope=\"row\">대전</th>, <th scope=\"row\">울산</th>, <th scope=\"row\">세종</th>, <th scope=\"row\">경기</th>, <th scope=\"row\">강원</th>, <th scope=\"row\">충북</th>, <th scope=\"row\">충남</th>, <th scope=\"row\">전북</th>, <th scope=\"row\">전남</th>, <th scope=\"row\">경북</th>, <th scope=\"row\">경남</th>, <th scope=\"row\">제주</th>]\n"
          ],
          "name": "stdout"
        }
      ]
    },
    {
      "cell_type": "markdown",
      "metadata": {
        "id": "W3W_LgzGiZWc"
      },
      "source": [
        "# New Section"
      ]
    },
    {
      "cell_type": "code",
      "metadata": {
        "colab": {
          "base_uri": "https://localhost:8080/"
        },
        "id": "R2kOHx3r-QCt",
        "outputId": "53fd0ec3-3da1-4583-9df2-871e1aa1474f"
      },
      "source": [
        "valueInfo = [eachLine.get_text().rstrip() for eachLine in vaccinInfo]\n",
        "temp = list()\n",
        "idx = -1\n",
        "for i, value in enumerate(valueInfo):\n",
        "  if i % 4 == 0: #4개 단위로 끊기 위해 %연산 사용 (1회차, 2회차)\n",
        "    temp.append([])\n",
        "    idx += 1\n",
        "  temp[idx].append(value)\n",
        "\n",
        "temp"
      ],
      "execution_count": 5,
      "outputs": [
        {
          "output_type": "execute_result",
          "data": {
            "text/plain": [
              "[['39,795', '3,640,808', '4,188', '1,329,899'],\n",
              " ['15,738', '1,350,732', '382', '477,789'],\n",
              " ['10,673', '846,936', '197', '309,059'],\n",
              " ['14,748', '1,029,393', '402', '360,899'],\n",
              " ['6,998', '549,351', '214', '204,413'],\n",
              " ['5,864', '522,959', '143', '197,573'],\n",
              " ['5,117', '396,230', '72', '124,831'],\n",
              " ['2,068', '109,016', '69', '37,618'],\n",
              " ['58,132', '4,625,726', '5,744', '1,636,240'],\n",
              " ['4,688', '668,033', '161', '273,243'],\n",
              " ['6,385', '638,664', '202', '240,701'],\n",
              " ['7,656', '848,897', '280', '330,571'],\n",
              " ['6,600', '788,523', '181', '311,942'],\n",
              " ['6,152', '858,860', '245', '344,277'],\n",
              " ['8,512', '1,070,140', '400', '409,725'],\n",
              " ['12,444', '1,249,007', '313', '464,102'],\n",
              " ['2,713', '250,845', '147', '93,040']]"
            ]
          },
          "metadata": {
            "tags": []
          },
          "execution_count": 5
        }
      ]
    },
    {
      "cell_type": "code",
      "metadata": {
        "colab": {
          "base_uri": "https://localhost:8080/"
        },
        "id": "j5y3qB5V-bNZ",
        "outputId": "6a20f3c2-8faa-41af-9c4e-e0a217a9f4d0"
      },
      "source": [
        "cityInfo = [eachLine.get_text().rstrip() for eachLine in cityInfo]\n",
        "cityInfo = cityInfo[4:]\n",
        "cityInfo"
      ],
      "execution_count": 6,
      "outputs": [
        {
          "output_type": "execute_result",
          "data": {
            "text/plain": [
              "['서울',\n",
              " '부산',\n",
              " '대구',\n",
              " '인천',\n",
              " '광주',\n",
              " '대전',\n",
              " '울산',\n",
              " '세종',\n",
              " '경기',\n",
              " '강원',\n",
              " '충북',\n",
              " '충남',\n",
              " '전북',\n",
              " '전남',\n",
              " '경북',\n",
              " '경남',\n",
              " '제주']"
            ]
          },
          "metadata": {
            "tags": []
          },
          "execution_count": 6
        }
      ]
    },
    {
      "cell_type": "code",
      "metadata": {
        "colab": {
          "base_uri": "https://localhost:8080/"
        },
        "id": "JbyKPRA-_MVy",
        "outputId": "891e5ad7-9633-4b48-dfd6-c4d1d188d5a6"
      },
      "source": [
        "allResult = dict()\n",
        "\n",
        "for city, value in zip(cityInfo, temp):\n",
        "  allResult[city] = value\n",
        "  \n",
        "print(allResult)"
      ],
      "execution_count": 7,
      "outputs": [
        {
          "output_type": "stream",
          "text": [
            "{'서울': ['39,795', '3,640,808', '4,188', '1,329,899'], '부산': ['15,738', '1,350,732', '382', '477,789'], '대구': ['10,673', '846,936', '197', '309,059'], '인천': ['14,748', '1,029,393', '402', '360,899'], '광주': ['6,998', '549,351', '214', '204,413'], '대전': ['5,864', '522,959', '143', '197,573'], '울산': ['5,117', '396,230', '72', '124,831'], '세종': ['2,068', '109,016', '69', '37,618'], '경기': ['58,132', '4,625,726', '5,744', '1,636,240'], '강원': ['4,688', '668,033', '161', '273,243'], '충북': ['6,385', '638,664', '202', '240,701'], '충남': ['7,656', '848,897', '280', '330,571'], '전북': ['6,600', '788,523', '181', '311,942'], '전남': ['6,152', '858,860', '245', '344,277'], '경북': ['8,512', '1,070,140', '400', '409,725'], '경남': ['12,444', '1,249,007', '313', '464,102'], '제주': ['2,713', '250,845', '147', '93,040']}\n"
          ],
          "name": "stdout"
        }
      ]
    },
    {
      "cell_type": "code",
      "metadata": {
        "id": "VC3yHXk2_uyy"
      },
      "source": [
        "import pandas as pd\n",
        "column_names = [\"1회차 접종 당일 실적\", \"1회차 접종 당일 누계\", \"2회차 접종 당일 실적\", \"2회차 접종 당일 누계\"]\n",
        "df = pd.DataFrame.from_dict(allResult, orient=\"index\", columns=column_names)\n",
        "fileName = str(datetime.date.today()) + \"_vaccin.csv\"\n",
        "df.to_csv(fileName)"
      ],
      "execution_count": 12,
      "outputs": []
    }
  ]
}
